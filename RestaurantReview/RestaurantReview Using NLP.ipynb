{
 "cells": [
  {
   "cell_type": "code",
   "execution_count": 1,
   "metadata": {
    "execution": {
     "iopub.execute_input": "2023-10-25T00:58:31.649181Z",
     "iopub.status.busy": "2023-10-25T00:58:31.648651Z",
     "iopub.status.idle": "2023-10-25T00:58:32.560403Z",
     "shell.execute_reply": "2023-10-25T00:58:32.55917Z",
     "shell.execute_reply.started": "2023-10-25T00:58:31.649132Z"
    }
   },
   "outputs": [],
   "source": [
    "import pandas as pd\n",
    "import numpy as np\n",
    "\n",
    "from sklearn.preprocessing import MinMaxScaler"
   ]
  },
  {
   "cell_type": "code",
   "execution_count": 2,
   "metadata": {
    "execution": {
     "iopub.execute_input": "2023-10-25T00:58:32.563206Z",
     "iopub.status.busy": "2023-10-25T00:58:32.562699Z",
     "iopub.status.idle": "2023-10-25T00:58:32.720243Z",
     "shell.execute_reply": "2023-10-25T00:58:32.719201Z",
     "shell.execute_reply.started": "2023-10-25T00:58:32.563176Z"
    }
   },
   "outputs": [
    {
     "data": {
      "text/html": [
       "<div>\n",
       "<style scoped>\n",
       "    .dataframe tbody tr th:only-of-type {\n",
       "        vertical-align: middle;\n",
       "    }\n",
       "\n",
       "    .dataframe tbody tr th {\n",
       "        vertical-align: top;\n",
       "    }\n",
       "\n",
       "    .dataframe thead th {\n",
       "        text-align: right;\n",
       "    }\n",
       "</style>\n",
       "<table border=\"1\" class=\"dataframe\">\n",
       "  <thead>\n",
       "    <tr style=\"text-align: right;\">\n",
       "      <th></th>\n",
       "      <th>Restaurant</th>\n",
       "      <th>Reviewer</th>\n",
       "      <th>Review</th>\n",
       "      <th>Rating</th>\n",
       "      <th>Metadata</th>\n",
       "      <th>Time</th>\n",
       "      <th>Pictures</th>\n",
       "      <th>7514</th>\n",
       "    </tr>\n",
       "  </thead>\n",
       "  <tbody>\n",
       "    <tr>\n",
       "      <th>0</th>\n",
       "      <td>Beyond Flavours</td>\n",
       "      <td>Rusha Chakraborty</td>\n",
       "      <td>The ambience was good, food was quite good . h...</td>\n",
       "      <td>5</td>\n",
       "      <td>1 Review , 2 Followers</td>\n",
       "      <td>5/25/2019 15:54</td>\n",
       "      <td>0</td>\n",
       "      <td>2447.0</td>\n",
       "    </tr>\n",
       "    <tr>\n",
       "      <th>1</th>\n",
       "      <td>Beyond Flavours</td>\n",
       "      <td>Anusha Tirumalaneedi</td>\n",
       "      <td>Ambience is too good for a pleasant evening. S...</td>\n",
       "      <td>5</td>\n",
       "      <td>3 Reviews , 2 Followers</td>\n",
       "      <td>5/25/2019 14:20</td>\n",
       "      <td>0</td>\n",
       "      <td>NaN</td>\n",
       "    </tr>\n",
       "    <tr>\n",
       "      <th>2</th>\n",
       "      <td>Beyond Flavours</td>\n",
       "      <td>Ashok Shekhawat</td>\n",
       "      <td>A must try.. great food great ambience. Thnx f...</td>\n",
       "      <td>5</td>\n",
       "      <td>2 Reviews , 3 Followers</td>\n",
       "      <td>5/24/2019 22:54</td>\n",
       "      <td>0</td>\n",
       "      <td>NaN</td>\n",
       "    </tr>\n",
       "    <tr>\n",
       "      <th>3</th>\n",
       "      <td>Beyond Flavours</td>\n",
       "      <td>Swapnil Sarkar</td>\n",
       "      <td>Soumen das and Arun was a great guy. Only beca...</td>\n",
       "      <td>5</td>\n",
       "      <td>1 Review , 1 Follower</td>\n",
       "      <td>5/24/2019 22:11</td>\n",
       "      <td>0</td>\n",
       "      <td>NaN</td>\n",
       "    </tr>\n",
       "    <tr>\n",
       "      <th>4</th>\n",
       "      <td>Beyond Flavours</td>\n",
       "      <td>Dileep</td>\n",
       "      <td>Food is good.we ordered Kodi drumsticks and ba...</td>\n",
       "      <td>5</td>\n",
       "      <td>3 Reviews , 2 Followers</td>\n",
       "      <td>5/24/2019 21:37</td>\n",
       "      <td>0</td>\n",
       "      <td>NaN</td>\n",
       "    </tr>\n",
       "  </tbody>\n",
       "</table>\n",
       "</div>"
      ],
      "text/plain": [
       "        Restaurant              Reviewer  \\\n",
       "0  Beyond Flavours     Rusha Chakraborty   \n",
       "1  Beyond Flavours  Anusha Tirumalaneedi   \n",
       "2  Beyond Flavours       Ashok Shekhawat   \n",
       "3  Beyond Flavours        Swapnil Sarkar   \n",
       "4  Beyond Flavours                Dileep   \n",
       "\n",
       "                                              Review Rating  \\\n",
       "0  The ambience was good, food was quite good . h...      5   \n",
       "1  Ambience is too good for a pleasant evening. S...      5   \n",
       "2  A must try.. great food great ambience. Thnx f...      5   \n",
       "3  Soumen das and Arun was a great guy. Only beca...      5   \n",
       "4  Food is good.we ordered Kodi drumsticks and ba...      5   \n",
       "\n",
       "                  Metadata             Time  Pictures    7514  \n",
       "0   1 Review , 2 Followers  5/25/2019 15:54         0  2447.0  \n",
       "1  3 Reviews , 2 Followers  5/25/2019 14:20         0     NaN  \n",
       "2  2 Reviews , 3 Followers  5/24/2019 22:54         0     NaN  \n",
       "3    1 Review , 1 Follower  5/24/2019 22:11         0     NaN  \n",
       "4  3 Reviews , 2 Followers  5/24/2019 21:37         0     NaN  "
      ]
     },
     "execution_count": 2,
     "metadata": {},
     "output_type": "execute_result"
    }
   ],
   "source": [
    "df = pd.read_csv('Restaurant reviews.csv')\n",
    "df.head()"
   ]
  },
  {
   "cell_type": "markdown",
   "metadata": {},
   "source": [
    "# Data Cleaning"
   ]
  },
  {
   "cell_type": "code",
   "execution_count": 3,
   "metadata": {
    "execution": {
     "iopub.execute_input": "2023-10-25T00:58:32.72191Z",
     "iopub.status.busy": "2023-10-25T00:58:32.721564Z",
     "iopub.status.idle": "2023-10-25T00:58:32.732451Z",
     "shell.execute_reply": "2023-10-25T00:58:32.731358Z",
     "shell.execute_reply.started": "2023-10-25T00:58:32.721881Z"
    }
   },
   "outputs": [],
   "source": [
    "df = df.drop([\"Restaurant\", \"Reviewer\", \"Metadata\", \"Pictures\" ,\"7514\"], axis=1)"
   ]
  },
  {
   "cell_type": "code",
   "execution_count": 4,
   "metadata": {
    "execution": {
     "iopub.execute_input": "2023-10-25T00:58:32.735275Z",
     "iopub.status.busy": "2023-10-25T00:58:32.73494Z",
     "iopub.status.idle": "2023-10-25T00:58:32.759034Z",
     "shell.execute_reply": "2023-10-25T00:58:32.757751Z",
     "shell.execute_reply.started": "2023-10-25T00:58:32.735247Z"
    }
   },
   "outputs": [],
   "source": [
    "df[\"Time\"] = list(map(lambda data: str(data).split()[0], df[\"Time\"]))\n",
    "df[\"Time\"] = list(map(lambda data: str(data).split(\"/\")[-1], df[\"Time\"]))"
   ]
  },
  {
   "cell_type": "code",
   "execution_count": 5,
   "metadata": {
    "execution": {
     "iopub.execute_input": "2023-10-25T00:58:32.761108Z",
     "iopub.status.busy": "2023-10-25T00:58:32.760658Z",
     "iopub.status.idle": "2023-10-25T00:58:32.775877Z",
     "shell.execute_reply": "2023-10-25T00:58:32.774737Z",
     "shell.execute_reply.started": "2023-10-25T00:58:32.761071Z"
    }
   },
   "outputs": [
    {
     "data": {
      "text/plain": [
       "array(['5', '4', '1', '3', '2', '3.5', '4.5', '2.5', '1.5', 'Like', nan],\n",
       "      dtype=object)"
      ]
     },
     "execution_count": 5,
     "metadata": {},
     "output_type": "execute_result"
    }
   ],
   "source": [
    "df[\"Rating\"].unique()"
   ]
  },
  {
   "cell_type": "code",
   "execution_count": 6,
   "metadata": {
    "execution": {
     "iopub.execute_input": "2023-10-25T00:58:32.778851Z",
     "iopub.status.busy": "2023-10-25T00:58:32.778117Z",
     "iopub.status.idle": "2023-10-25T00:58:32.788481Z",
     "shell.execute_reply": "2023-10-25T00:58:32.787355Z",
     "shell.execute_reply.started": "2023-10-25T00:58:32.778813Z"
    }
   },
   "outputs": [
    {
     "data": {
      "text/plain": [
       "38"
      ]
     },
     "execution_count": 6,
     "metadata": {},
     "output_type": "execute_result"
    }
   ],
   "source": [
    "df[\"Rating\"].isnull().sum()"
   ]
  },
  {
   "cell_type": "code",
   "execution_count": 7,
   "metadata": {
    "execution": {
     "iopub.execute_input": "2023-10-25T00:58:32.791119Z",
     "iopub.status.busy": "2023-10-25T00:58:32.7903Z",
     "iopub.status.idle": "2023-10-25T00:58:32.804558Z",
     "shell.execute_reply": "2023-10-25T00:58:32.803769Z",
     "shell.execute_reply.started": "2023-10-25T00:58:32.791083Z"
    }
   },
   "outputs": [
    {
     "data": {
      "text/plain": [
       "'5'"
      ]
     },
     "execution_count": 7,
     "metadata": {},
     "output_type": "execute_result"
    }
   ],
   "source": [
    "df['Rating'].value_counts().idxmax()"
   ]
  },
  {
   "cell_type": "code",
   "execution_count": 8,
   "metadata": {
    "execution": {
     "iopub.execute_input": "2023-10-25T00:58:32.808174Z",
     "iopub.status.busy": "2023-10-25T00:58:32.807272Z",
     "iopub.status.idle": "2023-10-25T00:58:32.816956Z",
     "shell.execute_reply": "2023-10-25T00:58:32.816104Z",
     "shell.execute_reply.started": "2023-10-25T00:58:32.808145Z"
    }
   },
   "outputs": [],
   "source": [
    "df['Rating'] = np.where(df[\"Rating\"] == \"Like\", df['Rating'].value_counts().idxmax(), df['Rating'])"
   ]
  },
  {
   "cell_type": "code",
   "execution_count": 9,
   "metadata": {
    "execution": {
     "iopub.execute_input": "2023-10-25T00:58:32.818972Z",
     "iopub.status.busy": "2023-10-25T00:58:32.818541Z",
     "iopub.status.idle": "2023-10-25T00:58:32.831502Z",
     "shell.execute_reply": "2023-10-25T00:58:32.830295Z",
     "shell.execute_reply.started": "2023-10-25T00:58:32.818934Z"
    }
   },
   "outputs": [
    {
     "data": {
      "text/plain": [
       "array(['5', '4', '1', '3', '2', '3.5', '4.5', '2.5', '1.5', nan],\n",
       "      dtype=object)"
      ]
     },
     "execution_count": 9,
     "metadata": {},
     "output_type": "execute_result"
    }
   ],
   "source": [
    "df[\"Rating\"].unique()"
   ]
  },
  {
   "cell_type": "code",
   "execution_count": 10,
   "metadata": {
    "execution": {
     "iopub.execute_input": "2023-10-25T00:58:32.837642Z",
     "iopub.status.busy": "2023-10-25T00:58:32.837334Z",
     "iopub.status.idle": "2023-10-25T00:58:32.854473Z",
     "shell.execute_reply": "2023-10-25T00:58:32.853181Z",
     "shell.execute_reply.started": "2023-10-25T00:58:32.837606Z"
    }
   },
   "outputs": [],
   "source": [
    "df[\"Rating\"] = list(map(lambda data: float(data) >= 3, df[\"Rating\"]))"
   ]
  },
  {
   "cell_type": "code",
   "execution_count": 11,
   "metadata": {
    "execution": {
     "iopub.execute_input": "2023-10-25T00:58:32.857071Z",
     "iopub.status.busy": "2023-10-25T00:58:32.856106Z",
     "iopub.status.idle": "2023-10-25T00:58:32.870975Z",
     "shell.execute_reply": "2023-10-25T00:58:32.870127Z",
     "shell.execute_reply.started": "2023-10-25T00:58:32.857029Z"
    }
   },
   "outputs": [
    {
     "data": {
      "text/plain": [
       "array([ True, False])"
      ]
     },
     "execution_count": 11,
     "metadata": {},
     "output_type": "execute_result"
    }
   ],
   "source": [
    "df[\"Rating\"].unique()"
   ]
  },
  {
   "cell_type": "code",
   "execution_count": 12,
   "metadata": {
    "execution": {
     "iopub.execute_input": "2023-10-25T00:58:32.872846Z",
     "iopub.status.busy": "2023-10-25T00:58:32.872052Z",
     "iopub.status.idle": "2023-10-25T00:58:32.889986Z",
     "shell.execute_reply": "2023-10-25T00:58:32.889233Z",
     "shell.execute_reply.started": "2023-10-25T00:58:32.872812Z"
    }
   },
   "outputs": [
    {
     "data": {
      "text/plain": [
       "array(['2019', '2018', '2017', '2016', 'nan'], dtype=object)"
      ]
     },
     "execution_count": 12,
     "metadata": {},
     "output_type": "execute_result"
    }
   ],
   "source": [
    "df[\"Time\"].unique()"
   ]
  },
  {
   "cell_type": "code",
   "execution_count": 13,
   "metadata": {
    "execution": {
     "iopub.execute_input": "2023-10-25T00:58:32.891823Z",
     "iopub.status.busy": "2023-10-25T00:58:32.891269Z",
     "iopub.status.idle": "2023-10-25T00:58:32.903142Z",
     "shell.execute_reply": "2023-10-25T00:58:32.902225Z",
     "shell.execute_reply.started": "2023-10-25T00:58:32.891794Z"
    }
   },
   "outputs": [],
   "source": [
    "df['Time'] = np.where(df[\"Time\"] == \"nan\", df['Time'].value_counts().idxmax(), df['Time'])"
   ]
  },
  {
   "cell_type": "code",
   "execution_count": 14,
   "metadata": {
    "execution": {
     "iopub.execute_input": "2023-10-25T00:58:32.90548Z",
     "iopub.status.busy": "2023-10-25T00:58:32.904659Z",
     "iopub.status.idle": "2023-10-25T00:58:32.914132Z",
     "shell.execute_reply": "2023-10-25T00:58:32.913138Z",
     "shell.execute_reply.started": "2023-10-25T00:58:32.905436Z"
    }
   },
   "outputs": [
    {
     "data": {
      "text/plain": [
       "array(['2019', '2018', '2017', '2016'], dtype=object)"
      ]
     },
     "execution_count": 14,
     "metadata": {},
     "output_type": "execute_result"
    }
   ],
   "source": [
    "df[\"Time\"].unique()"
   ]
  },
  {
   "cell_type": "code",
   "execution_count": 15,
   "metadata": {
    "execution": {
     "iopub.execute_input": "2023-10-25T00:58:32.916128Z",
     "iopub.status.busy": "2023-10-25T00:58:32.915323Z",
     "iopub.status.idle": "2023-10-25T00:58:32.933956Z",
     "shell.execute_reply": "2023-10-25T00:58:32.932851Z",
     "shell.execute_reply.started": "2023-10-25T00:58:32.916084Z"
    }
   },
   "outputs": [],
   "source": [
    "mmsTime = MinMaxScaler()\n",
    "\n",
    "mmsTime.fit(df[[\"Time\"]])\n",
    "df[\"Time\"] = mmsTime.transform(df[[\"Time\"]])"
   ]
  },
  {
   "cell_type": "code",
   "execution_count": 16,
   "metadata": {
    "execution": {
     "iopub.execute_input": "2023-10-25T00:58:32.936391Z",
     "iopub.status.busy": "2023-10-25T00:58:32.935311Z",
     "iopub.status.idle": "2023-10-25T00:58:32.947987Z",
     "shell.execute_reply": "2023-10-25T00:58:32.946764Z",
     "shell.execute_reply.started": "2023-10-25T00:58:32.936361Z"
    }
   },
   "outputs": [
    {
     "data": {
      "text/plain": [
       "array([1.        , 0.66666667, 0.33333333, 0.        ])"
      ]
     },
     "execution_count": 16,
     "metadata": {},
     "output_type": "execute_result"
    }
   ],
   "source": [
    "df[\"Time\"].unique()"
   ]
  },
  {
   "cell_type": "code",
   "execution_count": 17,
   "metadata": {
    "execution": {
     "iopub.execute_input": "2023-10-25T00:58:32.950057Z",
     "iopub.status.busy": "2023-10-25T00:58:32.949094Z",
     "iopub.status.idle": "2023-10-25T00:58:32.972778Z",
     "shell.execute_reply": "2023-10-25T00:58:32.971571Z",
     "shell.execute_reply.started": "2023-10-25T00:58:32.950028Z"
    }
   },
   "outputs": [
    {
     "data": {
      "text/html": [
       "<div>\n",
       "<style scoped>\n",
       "    .dataframe tbody tr th:only-of-type {\n",
       "        vertical-align: middle;\n",
       "    }\n",
       "\n",
       "    .dataframe tbody tr th {\n",
       "        vertical-align: top;\n",
       "    }\n",
       "\n",
       "    .dataframe thead th {\n",
       "        text-align: right;\n",
       "    }\n",
       "</style>\n",
       "<table border=\"1\" class=\"dataframe\">\n",
       "  <thead>\n",
       "    <tr style=\"text-align: right;\">\n",
       "      <th></th>\n",
       "      <th>Review</th>\n",
       "      <th>Rating</th>\n",
       "      <th>Time</th>\n",
       "    </tr>\n",
       "  </thead>\n",
       "  <tbody>\n",
       "    <tr>\n",
       "      <th>0</th>\n",
       "      <td>The ambience was good, food was quite good . h...</td>\n",
       "      <td>True</td>\n",
       "      <td>1.0</td>\n",
       "    </tr>\n",
       "    <tr>\n",
       "      <th>1</th>\n",
       "      <td>Ambience is too good for a pleasant evening. S...</td>\n",
       "      <td>True</td>\n",
       "      <td>1.0</td>\n",
       "    </tr>\n",
       "    <tr>\n",
       "      <th>2</th>\n",
       "      <td>A must try.. great food great ambience. Thnx f...</td>\n",
       "      <td>True</td>\n",
       "      <td>1.0</td>\n",
       "    </tr>\n",
       "    <tr>\n",
       "      <th>3</th>\n",
       "      <td>Soumen das and Arun was a great guy. Only beca...</td>\n",
       "      <td>True</td>\n",
       "      <td>1.0</td>\n",
       "    </tr>\n",
       "    <tr>\n",
       "      <th>4</th>\n",
       "      <td>Food is good.we ordered Kodi drumsticks and ba...</td>\n",
       "      <td>True</td>\n",
       "      <td>1.0</td>\n",
       "    </tr>\n",
       "    <tr>\n",
       "      <th>...</th>\n",
       "      <td>...</td>\n",
       "      <td>...</td>\n",
       "      <td>...</td>\n",
       "    </tr>\n",
       "    <tr>\n",
       "      <th>9995</th>\n",
       "      <td>Madhumathi Mahajan Well to start with nice cou...</td>\n",
       "      <td>True</td>\n",
       "      <td>0.0</td>\n",
       "    </tr>\n",
       "    <tr>\n",
       "      <th>9996</th>\n",
       "      <td>This place has never disappointed us.. The foo...</td>\n",
       "      <td>True</td>\n",
       "      <td>0.0</td>\n",
       "    </tr>\n",
       "    <tr>\n",
       "      <th>9997</th>\n",
       "      <td>Bad rating is mainly because of \"Chicken Bone ...</td>\n",
       "      <td>False</td>\n",
       "      <td>0.0</td>\n",
       "    </tr>\n",
       "    <tr>\n",
       "      <th>9998</th>\n",
       "      <td>I personally love and prefer Chinese Food. Had...</td>\n",
       "      <td>True</td>\n",
       "      <td>0.0</td>\n",
       "    </tr>\n",
       "    <tr>\n",
       "      <th>9999</th>\n",
       "      <td>Checked in here to try some delicious chinese ...</td>\n",
       "      <td>True</td>\n",
       "      <td>0.0</td>\n",
       "    </tr>\n",
       "  </tbody>\n",
       "</table>\n",
       "<p>10000 rows × 3 columns</p>\n",
       "</div>"
      ],
      "text/plain": [
       "                                                 Review  Rating  Time\n",
       "0     The ambience was good, food was quite good . h...    True   1.0\n",
       "1     Ambience is too good for a pleasant evening. S...    True   1.0\n",
       "2     A must try.. great food great ambience. Thnx f...    True   1.0\n",
       "3     Soumen das and Arun was a great guy. Only beca...    True   1.0\n",
       "4     Food is good.we ordered Kodi drumsticks and ba...    True   1.0\n",
       "...                                                 ...     ...   ...\n",
       "9995  Madhumathi Mahajan Well to start with nice cou...    True   0.0\n",
       "9996  This place has never disappointed us.. The foo...    True   0.0\n",
       "9997  Bad rating is mainly because of \"Chicken Bone ...   False   0.0\n",
       "9998  I personally love and prefer Chinese Food. Had...    True   0.0\n",
       "9999  Checked in here to try some delicious chinese ...    True   0.0\n",
       "\n",
       "[10000 rows x 3 columns]"
      ]
     },
     "execution_count": 17,
     "metadata": {},
     "output_type": "execute_result"
    }
   ],
   "source": [
    "df"
   ]
  },
  {
   "cell_type": "code",
   "execution_count": 18,
   "metadata": {
    "execution": {
     "iopub.execute_input": "2023-10-25T00:58:32.974817Z",
     "iopub.status.busy": "2023-10-25T00:58:32.973977Z",
     "iopub.status.idle": "2023-10-25T00:58:32.985272Z",
     "shell.execute_reply": "2023-10-25T00:58:32.984175Z",
     "shell.execute_reply.started": "2023-10-25T00:58:32.97477Z"
    }
   },
   "outputs": [],
   "source": [
    "df[\"Review\"] = df[\"Review\"].fillna(\"Nothing\")"
   ]
  },
  {
   "cell_type": "markdown",
   "metadata": {},
   "source": [
    "# NLP"
   ]
  },
  {
   "cell_type": "code",
   "execution_count": 21,
   "metadata": {
    "execution": {
     "iopub.execute_input": "2023-10-25T00:58:32.987852Z",
     "iopub.status.busy": "2023-10-25T00:58:32.986601Z",
     "iopub.status.idle": "2023-10-25T00:58:33.98514Z",
     "shell.execute_reply": "2023-10-25T00:58:33.983961Z",
     "shell.execute_reply.started": "2023-10-25T00:58:32.987813Z"
    }
   },
   "outputs": [],
   "source": [
    "from nltk.tokenize import word_tokenize\n",
    "from nltk.stem import PorterStemmer\n",
    "from nltk.corpus import stopwords\n",
    "import re\n",
    "from sklearn.model_selection import train_test_split\n",
    "from sklearn.ensemble import RandomForestClassifier\n",
    "from sklearn.metrics import accuracy_score\n",
    "\n",
    "ps = PorterStemmer()"
   ]
  },
  {
   "cell_type": "code",
   "execution_count": 27,
   "metadata": {},
   "outputs": [
    {
     "name": "stderr",
     "output_type": "stream",
     "text": [
      "[nltk_data] Downloading package punkt to\n",
      "[nltk_data]     C:\\Users\\Donation\\AppData\\Roaming\\nltk_data...\n",
      "[nltk_data]   Package punkt is already up-to-date!\n",
      "[nltk_data] Downloading package stopwords to\n",
      "[nltk_data]     C:\\Users\\Donation\\AppData\\Roaming\\nltk_data...\n",
      "[nltk_data]   Unzipping corpora\\stopwords.zip.\n"
     ]
    },
    {
     "data": {
      "text/plain": [
       "True"
      ]
     },
     "execution_count": 27,
     "metadata": {},
     "output_type": "execute_result"
    }
   ],
   "source": [
    "import nltk\n",
    "nltk.download('punkt')\n",
    "nltk.download('stopwords')"
   ]
  },
  {
   "cell_type": "code",
   "execution_count": 28,
   "metadata": {
    "execution": {
     "iopub.execute_input": "2023-10-25T00:58:33.986879Z",
     "iopub.status.busy": "2023-10-25T00:58:33.986463Z",
     "iopub.status.idle": "2023-10-25T00:58:42.779072Z",
     "shell.execute_reply": "2023-10-25T00:58:42.778145Z",
     "shell.execute_reply.started": "2023-10-25T00:58:33.986841Z"
    }
   },
   "outputs": [],
   "source": [
    "reviewList = list(map(lambda data: word_tokenize(data), df[\"Review\"]))"
   ]
  },
  {
   "cell_type": "code",
   "execution_count": 29,
   "metadata": {
    "execution": {
     "iopub.execute_input": "2023-10-25T00:58:42.780892Z",
     "iopub.status.busy": "2023-10-25T00:58:42.780457Z",
     "iopub.status.idle": "2023-10-25T01:00:08.223032Z",
     "shell.execute_reply": "2023-10-25T01:00:08.222051Z",
     "shell.execute_reply.started": "2023-10-25T00:58:42.78085Z"
    }
   },
   "outputs": [],
   "source": [
    "for index, word_list in enumerate(reviewList):\n",
    "    reviewList[index] = \" \".join([ps.stem(str(word)) for word in word_list if not word in stopwords.words(\"english\") and word not in [\".\", \",\", \"?\", \"@\", \"$\", \"/\"] and not word.isspace()])"
   ]
  },
  {
   "cell_type": "code",
   "execution_count": 30,
   "metadata": {
    "execution": {
     "iopub.execute_input": "2023-10-25T01:00:08.225231Z",
     "iopub.status.busy": "2023-10-25T01:00:08.224381Z",
     "iopub.status.idle": "2023-10-25T01:00:08.236302Z",
     "shell.execute_reply": "2023-10-25T01:00:08.235318Z",
     "shell.execute_reply.started": "2023-10-25T01:00:08.225201Z"
    }
   },
   "outputs": [],
   "source": [
    "emoji_pattern = re.compile(\"[\"\n",
    "        u\"\\U0001F600-\\U0001F64F\"\n",
    "        u\"\\U0001F300-\\U0001F5FF\"\n",
    "        u\"\\U0001F680-\\U0001F6FF\"\n",
    "        u\"\\U0001F1E0-\\U0001F1FF\"\n",
    "        u\"\\U00002500-\\U00002BEF\" \n",
    "        u\"\\U00002702-\\U000027B0\"\n",
    "        u\"\\U000024C2-\\U0001F251\"\n",
    "        u\"\\U0001f926-\\U0001f937\"\n",
    "        u\"\\U00010000-\\U0010ffff\"\n",
    "        u\"\\u2640-\\u2642\" \n",
    "        u\"\\u2600-\\u2B55\"\n",
    "        u\"\\u200d\"\n",
    "        u\"\\u23cf\"\n",
    "        u\"\\u23e9\"\n",
    "        u\"\\u231a\"\n",
    "        u\"\\ufe0f\"\n",
    "        u\"\\u3030\"\n",
    "                      \"]+\", re.UNICODE)\n",
    "\n",
    "regexPuct = r\"[\\s\\w\\d]\""
   ]
  },
  {
   "cell_type": "code",
   "execution_count": 31,
   "metadata": {
    "execution": {
     "iopub.execute_input": "2023-10-25T01:00:08.237976Z",
     "iopub.status.busy": "2023-10-25T01:00:08.237609Z",
     "iopub.status.idle": "2023-10-25T01:00:08.943936Z",
     "shell.execute_reply": "2023-10-25T01:00:08.943037Z",
     "shell.execute_reply.started": "2023-10-25T01:00:08.237935Z"
    }
   },
   "outputs": [],
   "source": [
    "for index, word_list in enumerate(reviewList):\n",
    "    reviewList[index] = re.sub(emoji_pattern, r'', word_list)\n",
    "    reviewList[index] = \"\".join(re.findall(regexPuct, reviewList[index], re.MULTILINE))\n",
    "    reviewList[index] = \" \".join(reviewList[index].split())"
   ]
  },
  {
   "cell_type": "code",
   "execution_count": 32,
   "metadata": {
    "execution": {
     "iopub.execute_input": "2023-10-25T01:00:08.946358Z",
     "iopub.status.busy": "2023-10-25T01:00:08.945474Z",
     "iopub.status.idle": "2023-10-25T01:00:08.953499Z",
     "shell.execute_reply": "2023-10-25T01:00:08.952722Z",
     "shell.execute_reply.started": "2023-10-25T01:00:08.946321Z"
    }
   },
   "outputs": [],
   "source": [
    "df[\"Review\"] = reviewList"
   ]
  },
  {
   "cell_type": "code",
   "execution_count": 33,
   "metadata": {
    "execution": {
     "iopub.execute_input": "2023-10-25T01:00:08.955165Z",
     "iopub.status.busy": "2023-10-25T01:00:08.954867Z",
     "iopub.status.idle": "2023-10-25T01:00:08.969864Z",
     "shell.execute_reply": "2023-10-25T01:00:08.968854Z",
     "shell.execute_reply.started": "2023-10-25T01:00:08.955138Z"
    }
   },
   "outputs": [
    {
     "data": {
      "text/html": [
       "<div>\n",
       "<style scoped>\n",
       "    .dataframe tbody tr th:only-of-type {\n",
       "        vertical-align: middle;\n",
       "    }\n",
       "\n",
       "    .dataframe tbody tr th {\n",
       "        vertical-align: top;\n",
       "    }\n",
       "\n",
       "    .dataframe thead th {\n",
       "        text-align: right;\n",
       "    }\n",
       "</style>\n",
       "<table border=\"1\" class=\"dataframe\">\n",
       "  <thead>\n",
       "    <tr style=\"text-align: right;\">\n",
       "      <th></th>\n",
       "      <th>Review</th>\n",
       "      <th>Rating</th>\n",
       "      <th>Time</th>\n",
       "    </tr>\n",
       "  </thead>\n",
       "  <tbody>\n",
       "    <tr>\n",
       "      <th>0</th>\n",
       "      <td>the ambienc good food quit good saturday lunch...</td>\n",
       "      <td>True</td>\n",
       "      <td>1.0</td>\n",
       "    </tr>\n",
       "    <tr>\n",
       "      <th>1</th>\n",
       "      <td>ambienc good pleasant even servic prompt food ...</td>\n",
       "      <td>True</td>\n",
       "      <td>1.0</td>\n",
       "    </tr>\n",
       "    <tr>\n",
       "      <th>2</th>\n",
       "      <td>a must tri great food great ambienc thnx servi...</td>\n",
       "      <td>True</td>\n",
       "      <td>1.0</td>\n",
       "    </tr>\n",
       "    <tr>\n",
       "      <th>3</th>\n",
       "      <td>soumen da arun great guy onli behavior sincere...</td>\n",
       "      <td>True</td>\n",
       "      <td>1.0</td>\n",
       "    </tr>\n",
       "    <tr>\n",
       "      <th>4</th>\n",
       "      <td>food goodw order kodi drumstick basket mutton ...</td>\n",
       "      <td>True</td>\n",
       "      <td>1.0</td>\n",
       "    </tr>\n",
       "  </tbody>\n",
       "</table>\n",
       "</div>"
      ],
      "text/plain": [
       "                                              Review  Rating  Time\n",
       "0  the ambienc good food quit good saturday lunch...    True   1.0\n",
       "1  ambienc good pleasant even servic prompt food ...    True   1.0\n",
       "2  a must tri great food great ambienc thnx servi...    True   1.0\n",
       "3  soumen da arun great guy onli behavior sincere...    True   1.0\n",
       "4  food goodw order kodi drumstick basket mutton ...    True   1.0"
      ]
     },
     "execution_count": 33,
     "metadata": {},
     "output_type": "execute_result"
    }
   ],
   "source": [
    "df.head()"
   ]
  },
  {
   "cell_type": "markdown",
   "metadata": {},
   "source": [
    "# Separating Data"
   ]
  },
  {
   "cell_type": "code",
   "execution_count": 34,
   "metadata": {
    "execution": {
     "iopub.execute_input": "2023-10-25T01:00:08.971517Z",
     "iopub.status.busy": "2023-10-25T01:00:08.971168Z",
     "iopub.status.idle": "2023-10-25T01:00:08.981043Z",
     "shell.execute_reply": "2023-10-25T01:00:08.980151Z",
     "shell.execute_reply.started": "2023-10-25T01:00:08.971492Z"
    }
   },
   "outputs": [],
   "source": [
    "X = df[\"Review\"]\n",
    "y = df[\"Rating\"]\n",
    "\n",
    "X_train, X_test, y_train, y_test = train_test_split(X, y, test_size=0.2, random_state=42)"
   ]
  },
  {
   "cell_type": "code",
   "execution_count": 35,
   "metadata": {
    "execution": {
     "iopub.execute_input": "2023-10-25T01:00:08.982438Z",
     "iopub.status.busy": "2023-10-25T01:00:08.982168Z",
     "iopub.status.idle": "2023-10-25T01:00:08.992917Z",
     "shell.execute_reply": "2023-10-25T01:00:08.991912Z",
     "shell.execute_reply.started": "2023-10-25T01:00:08.982414Z"
    }
   },
   "outputs": [
    {
     "data": {
      "text/plain": [
       "'went dinner buffet famili gather food averag price paymost item avail buffet menu serv tabl lot delay'"
      ]
     },
     "execution_count": 35,
     "metadata": {},
     "output_type": "execute_result"
    }
   ],
   "source": [
    "X_train.iloc[0]"
   ]
  },
  {
   "cell_type": "markdown",
   "metadata": {},
   "source": [
    "# Models"
   ]
  },
  {
   "cell_type": "code",
   "execution_count": 36,
   "metadata": {
    "execution": {
     "iopub.execute_input": "2023-10-25T01:00:08.998547Z",
     "iopub.status.busy": "2023-10-25T01:00:08.998226Z",
     "iopub.status.idle": "2023-10-25T01:00:46.030501Z",
     "shell.execute_reply": "2023-10-25T01:00:46.029295Z",
     "shell.execute_reply.started": "2023-10-25T01:00:08.998521Z"
    }
   },
   "outputs": [
    {
     "data": {
      "text/plain": [
       "0.9145"
      ]
     },
     "execution_count": 36,
     "metadata": {},
     "output_type": "execute_result"
    }
   ],
   "source": [
    "from sklearn.pipeline import Pipeline\n",
    "from sklearn.feature_extraction.text import TfidfVectorizer\n",
    "from sklearn.svm import SVC\n",
    "\n",
    "pipeline = Pipeline([\n",
    "    ('vectorizer', TfidfVectorizer(ngram_range=(1,3))),\n",
    "    ('classifier', SVC()) \n",
    "])\n",
    "\n",
    "pipeline.fit(X_train, y_train)\n",
    "pipeline.score(X_test, y_test)"
   ]
  },
  {
   "cell_type": "markdown",
   "metadata": {},
   "source": [
    "# Testing Model"
   ]
  },
  {
   "cell_type": "code",
   "execution_count": 40,
   "metadata": {
    "execution": {
     "iopub.execute_input": "2023-10-25T01:11:08.567065Z",
     "iopub.status.busy": "2023-10-25T01:11:08.566651Z",
     "iopub.status.idle": "2023-10-25T01:11:08.573185Z",
     "shell.execute_reply": "2023-10-25T01:11:08.571854Z",
     "shell.execute_reply.started": "2023-10-25T01:11:08.567036Z"
    }
   },
   "outputs": [],
   "source": [
    "positive_sentence = \"I absolutely love this product! It has exceeded all my expectations. It's well-designed, durable, and incredibly useful. I can't imagine my life without it now. I would highly recommend it to anyone looking for a high-quality, reliable product\"\n",
    "negative_sentence = \"I bought this product, and it was a complete waste of money. It stopped working after just a week, and the customer service was unhelpful and rude. I will never purchase anything from this company again.\""
   ]
  },
  {
   "cell_type": "code",
   "execution_count": 41,
   "metadata": {
    "execution": {
     "iopub.execute_input": "2023-10-25T01:11:08.80903Z",
     "iopub.status.busy": "2023-10-25T01:11:08.807788Z",
     "iopub.status.idle": "2023-10-25T01:11:08.833062Z",
     "shell.execute_reply": "2023-10-25T01:11:08.831817Z",
     "shell.execute_reply.started": "2023-10-25T01:11:08.808973Z"
    }
   },
   "outputs": [
    {
     "data": {
      "text/plain": [
       "array([ True, False])"
      ]
     },
     "execution_count": 41,
     "metadata": {},
     "output_type": "execute_result"
    }
   ],
   "source": [
    "pipeline.predict([positive_sentence, negative_sentence])"
   ]
  },
  {
   "cell_type": "code",
   "execution_count": 44,
   "metadata": {
    "execution": {
     "iopub.execute_input": "2023-10-25T01:11:09.656739Z",
     "iopub.status.busy": "2023-10-25T01:11:09.65547Z",
     "iopub.status.idle": "2023-10-25T01:11:09.665653Z",
     "shell.execute_reply": "2023-10-25T01:11:09.664257Z",
     "shell.execute_reply.started": "2023-10-25T01:11:09.656672Z"
    }
   },
   "outputs": [],
   "source": [
    "def preprocess(text):\n",
    "    text = word_tokenize(text)\n",
    "    text = \" \".join([ps.stem(str(word)) for word in text if not word in stopwords.words(\"english\") and word not in [\".\", \",\", \"?\", \"@\", \"$\", \"/\"] and not word.isspace()])\n",
    "    text = re.sub(emoji_pattern, r'', text)\n",
    "    text = \"\".join(re.findall(regexPuct, text, re.MULTILINE))\n",
    "    text = \" \".join(text.split())\n",
    "\n",
    "    return text"
   ]
  },
  {
   "cell_type": "code",
   "execution_count": 45,
   "metadata": {
    "execution": {
     "iopub.execute_input": "2023-10-25T01:11:11.11463Z",
     "iopub.status.busy": "2023-10-25T01:11:11.114099Z",
     "iopub.status.idle": "2023-10-25T01:11:11.140819Z",
     "shell.execute_reply": "2023-10-25T01:11:11.139496Z",
     "shell.execute_reply.started": "2023-10-25T01:11:11.114583Z"
    }
   },
   "outputs": [],
   "source": [
    "positive_sentence = preprocess(positive_sentence)\n",
    "negative_sentence = preprocess(negative_sentence)"
   ]
  },
  {
   "cell_type": "code",
   "execution_count": 46,
   "metadata": {
    "execution": {
     "iopub.execute_input": "2023-10-25T01:11:11.841215Z",
     "iopub.status.busy": "2023-10-25T01:11:11.84052Z",
     "iopub.status.idle": "2023-10-25T01:11:11.849136Z",
     "shell.execute_reply": "2023-10-25T01:11:11.847347Z",
     "shell.execute_reply.started": "2023-10-25T01:11:11.841161Z"
    }
   },
   "outputs": [
    {
     "data": {
      "text/plain": [
       "'i absolut love product it exceed expect it s welldesign durabl incred use i ca nt imagin life without i would highli recommend anyon look highqual reliabl product'"
      ]
     },
     "execution_count": 46,
     "metadata": {},
     "output_type": "execute_result"
    }
   ],
   "source": [
    "positive_sentence"
   ]
  },
  {
   "cell_type": "code",
   "execution_count": 47,
   "metadata": {
    "execution": {
     "iopub.execute_input": "2023-10-25T01:11:14.15809Z",
     "iopub.status.busy": "2023-10-25T01:11:14.15723Z",
     "iopub.status.idle": "2023-10-25T01:11:14.165694Z",
     "shell.execute_reply": "2023-10-25T01:11:14.164552Z",
     "shell.execute_reply.started": "2023-10-25T01:11:14.158054Z"
    }
   },
   "outputs": [
    {
     "data": {
      "text/plain": [
       "'i bought product complet wast money it stop work week custom servic unhelp rude i never purchas anyth compani'"
      ]
     },
     "execution_count": 47,
     "metadata": {},
     "output_type": "execute_result"
    }
   ],
   "source": [
    "negative_sentence"
   ]
  },
  {
   "cell_type": "code",
   "execution_count": 48,
   "metadata": {
    "execution": {
     "iopub.execute_input": "2023-10-25T01:11:42.608732Z",
     "iopub.status.busy": "2023-10-25T01:11:42.6083Z",
     "iopub.status.idle": "2023-10-25T01:11:42.630273Z",
     "shell.execute_reply": "2023-10-25T01:11:42.629383Z",
     "shell.execute_reply.started": "2023-10-25T01:11:42.608681Z"
    }
   },
   "outputs": [
    {
     "data": {
      "text/plain": [
       "array([ True, False])"
      ]
     },
     "execution_count": 48,
     "metadata": {},
     "output_type": "execute_result"
    }
   ],
   "source": [
    "pipeline.predict([positive_sentence, negative_sentence])"
   ]
  },
  {
   "cell_type": "code",
   "execution_count": null,
   "metadata": {},
   "outputs": [],
   "source": []
  }
 ],
 "metadata": {
  "kaggle": {
   "accelerator": "none",
   "dataSources": [
    {
     "datasetId": 3697155,
     "sourceId": 6410731,
     "sourceType": "datasetVersion"
    }
   ],
   "dockerImageVersionId": 30558,
   "isGpuEnabled": false,
   "isInternetEnabled": false,
   "language": "python",
   "sourceType": "notebook"
  },
  "kernelspec": {
   "display_name": "Python 3 (ipykernel)",
   "language": "python",
   "name": "python3"
  },
  "language_info": {
   "codemirror_mode": {
    "name": "ipython",
    "version": 3
   },
   "file_extension": ".py",
   "mimetype": "text/x-python",
   "name": "python",
   "nbconvert_exporter": "python",
   "pygments_lexer": "ipython3",
   "version": "3.11.5"
  }
 },
 "nbformat": 4,
 "nbformat_minor": 4
}
